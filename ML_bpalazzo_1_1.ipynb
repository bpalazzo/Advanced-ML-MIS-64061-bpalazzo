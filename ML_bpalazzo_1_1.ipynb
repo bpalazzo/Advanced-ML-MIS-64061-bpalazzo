{
  "nbformat": 4,
  "nbformat_minor": 0,
  "metadata": {
    "colab": {
      "name": "ML bpalazzo_1-1.ipynb",
      "provenance": [],
      "collapsed_sections": []
    },
    "kernelspec": {
      "name": "python3",
      "display_name": "Python 3"
    }
  },
  "cells": [
    {
      "cell_type": "markdown",
      "metadata": {
        "id": "SAnZ0wNKJBer"
      },
      "source": [
        "# Hidden Layer Iteration"
      ]
    },
    {
      "cell_type": "markdown",
      "metadata": {
        "id": "8K88AGH3QC8P"
      },
      "source": [
        "## Importing IMDB Dataset"
      ]
    },
    {
      "cell_type": "code",
      "metadata": {
        "id": "6GO3FkKif-qc"
      },
      "source": [
        "import keras\r\n"
      ],
      "execution_count": 1,
      "outputs": []
    },
    {
      "cell_type": "code",
      "metadata": {
        "id": "5j2Gfjzjgplg"
      },
      "source": [
        "from keras.datasets import imdb\r\n",
        "\r\n",
        "(train_data, train_labels), (test_data, test_labels) = imdb.load_data(num_words=10000)"
      ],
      "execution_count": null,
      "outputs": []
    },
    {
      "cell_type": "code",
      "metadata": {
        "id": "4_BuCXYShm49"
      },
      "source": [
        "train_data[0]\r\n"
      ],
      "execution_count": null,
      "outputs": []
    },
    {
      "cell_type": "code",
      "metadata": {
        "id": "ofwS10jqh7eR"
      },
      "source": [
        "train_labels[0]"
      ],
      "execution_count": null,
      "outputs": []
    },
    {
      "cell_type": "code",
      "metadata": {
        "id": "-Ohqy2LDPFpI"
      },
      "source": [
        "max([max(sequence) for sequence in train_data])"
      ],
      "execution_count": null,
      "outputs": []
    },
    {
      "cell_type": "code",
      "metadata": {
        "id": "n5oRRcPlPTE6"
      },
      "source": [
        "# word_index is a dictionary mapping words to an integer index\r\n",
        "word_index = imdb.get_word_index()\r\n",
        "# We reverse it, mapping integer indices to words\r\n",
        "reverse_word_index = dict([(value, key) for (key, value) in word_index.items()])\r\n",
        "# We decode the review; note that our indices were offset by 3\r\n",
        "# because 0, 1 and 2 are reserved indices for \"padding\", \"start of sequence\", and \"unknown\".\r\n",
        "decoded_review = ' '.join([reverse_word_index.get(i - 3, '?') for i in train_data[0]])"
      ],
      "execution_count": null,
      "outputs": []
    },
    {
      "cell_type": "code",
      "metadata": {
        "id": "Ahcmx9IyPV7A"
      },
      "source": [
        "decoded_review\r\n"
      ],
      "execution_count": null,
      "outputs": []
    },
    {
      "cell_type": "markdown",
      "metadata": {
        "id": "7MYf-3PXPcOY"
      },
      "source": [
        "## Preparing the Data"
      ]
    },
    {
      "cell_type": "code",
      "metadata": {
        "id": "Vh48W6wTPi84"
      },
      "source": [
        "import numpy as np\r\n",
        "\r\n",
        "def vectorize_sequences(sequences, dimension=10000):\r\n",
        "    # Create an all-zero matrix of shape (len(sequences), dimension)\r\n",
        "    results = np.zeros((len(sequences), dimension))\r\n",
        "    for i, sequence in enumerate(sequences):\r\n",
        "        results[i, sequence] = 1.  # set specific indices of results[i] to 1s\r\n",
        "    return results\r\n",
        "\r\n",
        "# Our vectorized training data\r\n",
        "x_train = vectorize_sequences(train_data)\r\n",
        "# Our vectorized test data\r\n",
        "x_test = vectorize_sequences(test_data)"
      ],
      "execution_count": 8,
      "outputs": []
    },
    {
      "cell_type": "code",
      "metadata": {
        "id": "MOKh4ee8Pok6"
      },
      "source": [
        "x_train[0]"
      ],
      "execution_count": null,
      "outputs": []
    },
    {
      "cell_type": "code",
      "metadata": {
        "id": "XXjmy30qPwCF"
      },
      "source": [
        "# Our vectorized labels\r\n",
        "y_train = np.asarray(train_labels).astype('float32')\r\n",
        "y_test = np.asarray(test_labels).astype('float32')"
      ],
      "execution_count": 10,
      "outputs": []
    },
    {
      "cell_type": "markdown",
      "metadata": {
        "id": "VXSzMZkRP21p"
      },
      "source": [
        "## Building the Network"
      ]
    },
    {
      "cell_type": "code",
      "metadata": {
        "id": "JUwrPlN8PzZt"
      },
      "source": [
        "from keras import models\r\n",
        "from keras import layers\r\n",
        "\r\n",
        "model = models.Sequential()\r\n",
        "model.add(layers.Dense(16, activation='relu', input_shape=(10000,)))\r\n",
        "model.add(layers.Dense(16, activation='relu'))\r\n",
        "model.add(layers.Dense(1, activation='sigmoid'))"
      ],
      "execution_count": 11,
      "outputs": []
    },
    {
      "cell_type": "code",
      "metadata": {
        "id": "0Fav-Q4QQVQN"
      },
      "source": [
        "model.compile(optimizer='rmsprop',\r\n",
        "              loss='binary_crossentropy',\r\n",
        "              metrics=['accuracy'])"
      ],
      "execution_count": 12,
      "outputs": []
    },
    {
      "cell_type": "code",
      "metadata": {
        "id": "CoBmlilMQZMt"
      },
      "source": [
        "from keras import optimizers\r\n",
        "\r\n",
        "model.compile(optimizer=optimizers.RMSprop(lr=0.001),\r\n",
        "              loss='binary_crossentropy',\r\n",
        "              metrics=['accuracy'])"
      ],
      "execution_count": 13,
      "outputs": []
    },
    {
      "cell_type": "code",
      "metadata": {
        "id": "u5S2k9XZQcNO"
      },
      "source": [
        "\r\n",
        "from keras import losses\r\n",
        "from keras import metrics\r\n",
        "\r\n",
        "model.compile(optimizer=optimizers.RMSprop(lr=0.001),\r\n",
        "              loss=losses.binary_crossentropy,\r\n",
        "              metrics=[metrics.binary_accuracy])"
      ],
      "execution_count": 14,
      "outputs": []
    },
    {
      "cell_type": "markdown",
      "metadata": {
        "id": "WhJ2CdpQQe9M"
      },
      "source": [
        "## Validating the Apporach"
      ]
    },
    {
      "cell_type": "code",
      "metadata": {
        "id": "tlgzieacQlR1"
      },
      "source": [
        "x_val = x_train[:10000]\r\n",
        "partial_x_train = x_train[10000:]\r\n",
        "\r\n",
        "y_val = y_train[:10000]\r\n",
        "partial_y_train = y_train[10000:]"
      ],
      "execution_count": 15,
      "outputs": []
    },
    {
      "cell_type": "code",
      "metadata": {
        "colab": {
          "base_uri": "https://localhost:8080/"
        },
        "id": "ijOsCzTPQuHe",
        "outputId": "6ad027a5-57be-4e8f-ca19-d5c200b345e4"
      },
      "source": [
        "history = model.fit(partial_x_train,\r\n",
        "                    partial_y_train,\r\n",
        "                    epochs=20,\r\n",
        "                    batch_size=512,\r\n",
        "                    validation_data=(x_val, y_val))"
      ],
      "execution_count": 16,
      "outputs": [
        {
          "output_type": "stream",
          "text": [
            "Epoch 1/20\n",
            "30/30 [==============================] - 2s 50ms/step - loss: 0.5966 - binary_accuracy: 0.6940 - val_loss: 0.3942 - val_binary_accuracy: 0.8716\n",
            "Epoch 2/20\n",
            "30/30 [==============================] - 1s 31ms/step - loss: 0.3300 - binary_accuracy: 0.9044 - val_loss: 0.3151 - val_binary_accuracy: 0.8829\n",
            "Epoch 3/20\n",
            "30/30 [==============================] - 1s 39ms/step - loss: 0.2337 - binary_accuracy: 0.9344 - val_loss: 0.2831 - val_binary_accuracy: 0.8907\n",
            "Epoch 4/20\n",
            "30/30 [==============================] - 1s 31ms/step - loss: 0.1839 - binary_accuracy: 0.9471 - val_loss: 0.2736 - val_binary_accuracy: 0.8896\n",
            "Epoch 5/20\n",
            "30/30 [==============================] - 1s 32ms/step - loss: 0.1462 - binary_accuracy: 0.9547 - val_loss: 0.2885 - val_binary_accuracy: 0.8837\n",
            "Epoch 6/20\n",
            "30/30 [==============================] - 1s 32ms/step - loss: 0.1177 - binary_accuracy: 0.9683 - val_loss: 0.2888 - val_binary_accuracy: 0.8871\n",
            "Epoch 7/20\n",
            "30/30 [==============================] - 1s 32ms/step - loss: 0.0986 - binary_accuracy: 0.9743 - val_loss: 0.3081 - val_binary_accuracy: 0.8833\n",
            "Epoch 8/20\n",
            "30/30 [==============================] - 1s 31ms/step - loss: 0.0782 - binary_accuracy: 0.9801 - val_loss: 0.3221 - val_binary_accuracy: 0.8823\n",
            "Epoch 9/20\n",
            "30/30 [==============================] - 1s 32ms/step - loss: 0.0667 - binary_accuracy: 0.9846 - val_loss: 0.3725 - val_binary_accuracy: 0.8714\n",
            "Epoch 10/20\n",
            "30/30 [==============================] - 1s 32ms/step - loss: 0.0560 - binary_accuracy: 0.9887 - val_loss: 0.3641 - val_binary_accuracy: 0.8765\n",
            "Epoch 11/20\n",
            "30/30 [==============================] - 1s 32ms/step - loss: 0.0459 - binary_accuracy: 0.9908 - val_loss: 0.4075 - val_binary_accuracy: 0.8712\n",
            "Epoch 12/20\n",
            "30/30 [==============================] - 1s 31ms/step - loss: 0.0379 - binary_accuracy: 0.9929 - val_loss: 0.4216 - val_binary_accuracy: 0.8730\n",
            "Epoch 13/20\n",
            "30/30 [==============================] - 1s 31ms/step - loss: 0.0294 - binary_accuracy: 0.9953 - val_loss: 0.4513 - val_binary_accuracy: 0.8730\n",
            "Epoch 14/20\n",
            "30/30 [==============================] - 1s 33ms/step - loss: 0.0245 - binary_accuracy: 0.9960 - val_loss: 0.5036 - val_binary_accuracy: 0.8638\n",
            "Epoch 15/20\n",
            "30/30 [==============================] - 1s 32ms/step - loss: 0.0183 - binary_accuracy: 0.9978 - val_loss: 0.5091 - val_binary_accuracy: 0.8698\n",
            "Epoch 16/20\n",
            "30/30 [==============================] - 1s 31ms/step - loss: 0.0166 - binary_accuracy: 0.9978 - val_loss: 0.5421 - val_binary_accuracy: 0.8682\n",
            "Epoch 17/20\n",
            "30/30 [==============================] - 1s 30ms/step - loss: 0.0131 - binary_accuracy: 0.9984 - val_loss: 0.5868 - val_binary_accuracy: 0.8634\n",
            "Epoch 18/20\n",
            "30/30 [==============================] - 1s 30ms/step - loss: 0.0104 - binary_accuracy: 0.9991 - val_loss: 0.6057 - val_binary_accuracy: 0.8657\n",
            "Epoch 19/20\n",
            "30/30 [==============================] - 1s 33ms/step - loss: 0.0078 - binary_accuracy: 0.9993 - val_loss: 0.6390 - val_binary_accuracy: 0.8659\n",
            "Epoch 20/20\n",
            "30/30 [==============================] - 1s 32ms/step - loss: 0.0050 - binary_accuracy: 0.9999 - val_loss: 0.6667 - val_binary_accuracy: 0.8652\n"
          ],
          "name": "stdout"
        }
      ]
    },
    {
      "cell_type": "code",
      "metadata": {
        "colab": {
          "base_uri": "https://localhost:8080/"
        },
        "id": "HvoykhUFQ_rz",
        "outputId": "59c1b8d6-d1eb-4337-c340-af890bc16f6a"
      },
      "source": [
        "history_dict = history.history\r\n",
        "history_dict.keys()"
      ],
      "execution_count": 17,
      "outputs": [
        {
          "output_type": "execute_result",
          "data": {
            "text/plain": [
              "dict_keys(['loss', 'binary_accuracy', 'val_loss', 'val_binary_accuracy'])"
            ]
          },
          "metadata": {
            "tags": []
          },
          "execution_count": 17
        }
      ]
    },
    {
      "cell_type": "code",
      "metadata": {
        "colab": {
          "base_uri": "https://localhost:8080/",
          "height": 295
        },
        "id": "0GOVDenfRFxG",
        "outputId": "6d5fd97d-6993-4424-9e97-001b7f6e2a16"
      },
      "source": [
        "import matplotlib.pyplot as plt\r\n",
        "\r\n",
        "binary_accuracy = history.history['binary_accuracy']\r\n",
        "val_binary_accuracy = history.history['val_binary_accuracy']\r\n",
        "loss = history.history['loss']\r\n",
        "val_loss = history.history['val_loss']\r\n",
        "\r\n",
        "epochs = range(1, len(binary_accuracy) + 1)\r\n",
        "\r\n",
        "# \"bo\" is for \"blue dot\"\r\n",
        "plt.plot(epochs, loss, 'bo', label='Training loss')\r\n",
        "# b is for \"solid blue line\"\r\n",
        "plt.plot(epochs, val_loss, 'b', label='Validation loss')\r\n",
        "plt.title('Training and validation loss')\r\n",
        "plt.xlabel('Epochs')\r\n",
        "plt.ylabel('Loss')\r\n",
        "plt.legend()\r\n",
        "\r\n",
        "plt.show()\r\n"
      ],
      "execution_count": 18,
      "outputs": [
        {
          "output_type": "display_data",
          "data": {
            "image/png": "[encoded data removed]",
            "text/plain": [
              "<Figure size 432x288 with 1 Axes>"
            ]
          },
          "metadata": {
            "tags": [],
            "needs_background": "light"
          }
        }
      ]
    },
    {
      "cell_type": "code",
      "metadata": {
        "colab": {
          "base_uri": "https://localhost:8080/",
          "height": 295
        },
        "id": "fWYwwPbmRmkW",
        "outputId": "9900bf46-2312-4caf-c766-73a734f6d2de"
      },
      "source": [
        "plt.clf()   # clear figure\r\n",
        "binary_accuracy_values = history_dict['binary_accuracy']\r\n",
        "val_binary_accuracy_values = history_dict['val_binary_accuracy']\r\n",
        "\r\n",
        "plt.plot(epochs, binary_accuracy, 'bo', label='Training acc')\r\n",
        "plt.plot(epochs, val_binary_accuracy, 'b', label='Validation acc')\r\n",
        "plt.title('Training and validation accuracy')\r\n",
        "plt.xlabel('Epochs')\r\n",
        "plt.ylabel('Loss')\r\n",
        "plt.legend()\r\n",
        "\r\n",
        "plt.show()"
      ],
      "execution_count": 19,
      "outputs": [
        {
          "output_type": "display_data",
          "data": {
            "image/png": "[encoded data removed]",
            "text/plain": [
              "<Figure size 432x288 with 1 Axes>"
            ]
          },
          "metadata": {
            "tags": [],
            "needs_background": "light"
          }
        }
      ]
    },
    {
      "cell_type": "code",
      "metadata": {
        "colab": {
          "base_uri": "https://localhost:8080/"
        },
        "id": "dxvyvjkrRrYi",
        "outputId": "e3bcc5b1-f302-4933-a17e-4f189f4524e0"
      },
      "source": [
        "model = models.Sequential()\r\n",
        "model.add(layers.Dense(16, activation='relu', input_shape=(10000,)))\r\n",
        "#model.add(layers.Dense(16, activation='relu'))\r\n",
        "#model.add(layers.Dense(16, activation='relu'))\r\n",
        "model.add(layers.Dense(1, activation='sigmoid'))\r\n",
        "\r\n",
        "model.compile(optimizer='rmsprop',\r\n",
        "              loss='binary_crossentropy',\r\n",
        "              metrics=['accuracy'])\r\n",
        "\r\n",
        "model.fit(x_val, y_val, epochs=4, batch_size=512)\r\n",
        "results = model.evaluate(x_test, y_test)"
      ],
      "execution_count": 20,
      "outputs": [
        {
          "output_type": "stream",
          "text": [
            "Epoch 1/4\n",
            "20/20 [==============================] - 1s 25ms/step - loss: 0.6014 - accuracy: 0.6879\n",
            "Epoch 2/4\n",
            "20/20 [==============================] - 1s 26ms/step - loss: 0.3662 - accuracy: 0.8904\n",
            "Epoch 3/4\n",
            "20/20 [==============================] - 0s 24ms/step - loss: 0.2756 - accuracy: 0.9297\n",
            "Epoch 4/4\n",
            "20/20 [==============================] - 0s 24ms/step - loss: 0.2213 - accuracy: 0.9435\n",
            "782/782 [==============================] - 1s 2ms/step - loss: 0.3122 - accuracy: 0.8787\n"
          ],
          "name": "stdout"
        }
      ]
    },
    {
      "cell_type": "code",
      "metadata": {
        "colab": {
          "base_uri": "https://localhost:8080/"
        },
        "id": "M_b034tVR4Un",
        "outputId": "d6b506b3-ff58-4b51-c104-31587560a765"
      },
      "source": [
        "\r\n",
        "results"
      ],
      "execution_count": 21,
      "outputs": [
        {
          "output_type": "execute_result",
          "data": {
            "text/plain": [
              "[0.31218254566192627, 0.8787199854850769]"
            ]
          },
          "metadata": {
            "tags": []
          },
          "execution_count": 21
        }
      ]
    },
    {
      "cell_type": "markdown",
      "metadata": {
        "id": "PQsGQK4jR9CP"
      },
      "source": [
        "## Predictions on New Data"
      ]
    },
    {
      "cell_type": "code",
      "metadata": {
        "colab": {
          "base_uri": "https://localhost:8080/"
        },
        "id": "3MGmFjZdSF6s",
        "outputId": "4cc94dcd-63e8-4759-cfae-5b6c0ec38465"
      },
      "source": [
        "model.predict(x_test)"
      ],
      "execution_count": 22,
      "outputs": [
        {
          "output_type": "execute_result",
          "data": {
            "text/plain": [
              "array([[0.4088717 ],\n",
              "       [0.9973471 ],\n",
              "       [0.7901516 ],\n",
              "       ...,\n",
              "       [0.21696809],\n",
              "       [0.19512445],\n",
              "       [0.462149  ]], dtype=float32)"
            ]
          },
          "metadata": {
            "tags": []
          },
          "execution_count": 22
        }
      ]
    }
  ]
}