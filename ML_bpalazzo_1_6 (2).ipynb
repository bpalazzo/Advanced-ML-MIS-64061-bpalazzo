{
  "nbformat": 4,
  "nbformat_minor": 0,
  "metadata": {
    "colab": {
      "name": "ML bpalazzo_1-6.ipynb",
      "provenance": [],
      "collapsed_sections": []
    },
    "kernelspec": {
      "name": "python3",
      "display_name": "Python 3"
    }
  },
  "cells": [
    {
      "cell_type": "markdown",
      "metadata": {
        "id": "wDlyksfQL1kb"
      },
      "source": [
        "# Combination of All Iteration"
      ]
    },
    {
      "cell_type": "markdown",
      "metadata": {
        "id": "8K88AGH3QC8P"
      },
      "source": [
        "## Importing IMDB Dataset"
      ]
    },
    {
      "cell_type": "code",
      "metadata": {
        "id": "6GO3FkKif-qc"
      },
      "source": [
        "import keras\r\n"
      ],
      "execution_count": 1,
      "outputs": []
    },
    {
      "cell_type": "code",
      "metadata": {
        "id": "5j2Gfjzjgplg"
      },
      "source": [
        "from keras.datasets import imdb\r\n",
        "\r\n",
        "(train_data, train_labels), (test_data, test_labels) = imdb.load_data(num_words=10000)"
      ],
      "execution_count": null,
      "outputs": []
    },
    {
      "cell_type": "code",
      "metadata": {
        "id": "4_BuCXYShm49"
      },
      "source": [
        "train_data[0]\r\n"
      ],
      "execution_count": null,
      "outputs": []
    },
    {
      "cell_type": "code",
      "metadata": {
        "id": "ofwS10jqh7eR"
      },
      "source": [
        "train_labels[0]"
      ],
      "execution_count": null,
      "outputs": []
    },
    {
      "cell_type": "code",
      "metadata": {
        "id": "-Ohqy2LDPFpI"
      },
      "source": [
        "max([max(sequence) for sequence in train_data])"
      ],
      "execution_count": null,
      "outputs": []
    },
    {
      "cell_type": "code",
      "metadata": {
        "id": "n5oRRcPlPTE6"
      },
      "source": [
        "# word_index is a dictionary mapping words to an integer index\r\n",
        "word_index = imdb.get_word_index()\r\n",
        "# We reverse it, mapping integer indices to words\r\n",
        "reverse_word_index = dict([(value, key) for (key, value) in word_index.items()])\r\n",
        "# We decode the review; note that our indices were offset by 3\r\n",
        "# because 0, 1 and 2 are reserved indices for \"padding\", \"start of sequence\", and \"unknown\".\r\n",
        "decoded_review = ' '.join([reverse_word_index.get(i - 3, '?') for i in train_data[0]])"
      ],
      "execution_count": null,
      "outputs": []
    },
    {
      "cell_type": "code",
      "metadata": {
        "id": "Ahcmx9IyPV7A"
      },
      "source": [
        "decoded_review\r\n"
      ],
      "execution_count": null,
      "outputs": []
    },
    {
      "cell_type": "markdown",
      "metadata": {
        "id": "7MYf-3PXPcOY"
      },
      "source": [
        "## Preparing the Data"
      ]
    },
    {
      "cell_type": "code",
      "metadata": {
        "id": "Vh48W6wTPi84"
      },
      "source": [
        "import numpy as np\r\n",
        "\r\n",
        "def vectorize_sequences(sequences, dimension=10000):\r\n",
        "    # Create an all-zero matrix of shape (len(sequences), dimension)\r\n",
        "    results = np.zeros((len(sequences), dimension))\r\n",
        "    for i, sequence in enumerate(sequences):\r\n",
        "        results[i, sequence] = 1.  # set specific indices of results[i] to 1s\r\n",
        "    return results\r\n",
        "\r\n",
        "# Our vectorized training data\r\n",
        "x_train = vectorize_sequences(train_data)\r\n",
        "# Our vectorized test data\r\n",
        "x_test = vectorize_sequences(test_data)"
      ],
      "execution_count": 8,
      "outputs": []
    },
    {
      "cell_type": "code",
      "metadata": {
        "id": "MOKh4ee8Pok6"
      },
      "source": [
        "x_train[0]"
      ],
      "execution_count": null,
      "outputs": []
    },
    {
      "cell_type": "code",
      "metadata": {
        "id": "XXjmy30qPwCF"
      },
      "source": [
        "# Our vectorized labels\r\n",
        "y_train = np.asarray(train_labels).astype('float32')\r\n",
        "y_test = np.asarray(test_labels).astype('float32')"
      ],
      "execution_count": 10,
      "outputs": []
    },
    {
      "cell_type": "markdown",
      "metadata": {
        "id": "VXSzMZkRP21p"
      },
      "source": [
        "## Building the Network"
      ]
    },
    {
      "cell_type": "code",
      "metadata": {
        "id": "JUwrPlN8PzZt"
      },
      "source": [
        "from keras import models\r\n",
        "from keras import layers\r\n",
        "\r\n",
        "model = models.Sequential()\r\n",
        "model.add(layers.Dense(16, activation='relu', input_shape=(10000,)))\r\n",
        "model.add(layers.Dense(16, activation='relu'))\r\n",
        "model.add(layers.Dense(1, activation='sigmoid'))"
      ],
      "execution_count": 11,
      "outputs": []
    },
    {
      "cell_type": "code",
      "metadata": {
        "id": "0Fav-Q4QQVQN"
      },
      "source": [
        "model.compile(optimizer='rmsprop',\r\n",
        "              loss='binary_crossentropy',\r\n",
        "              metrics=['accuracy'])"
      ],
      "execution_count": 12,
      "outputs": []
    },
    {
      "cell_type": "code",
      "metadata": {
        "id": "CoBmlilMQZMt"
      },
      "source": [
        "from keras import optimizers\r\n",
        "\r\n",
        "model.compile(optimizer=optimizers.RMSprop(lr=0.001),\r\n",
        "              loss='binary_crossentropy',\r\n",
        "              metrics=['accuracy'])"
      ],
      "execution_count": 13,
      "outputs": []
    },
    {
      "cell_type": "code",
      "metadata": {
        "id": "u5S2k9XZQcNO"
      },
      "source": [
        "\r\n",
        "from keras import losses\r\n",
        "from keras import metrics\r\n",
        "\r\n",
        "model.compile(optimizer=optimizers.RMSprop(lr=0.001),\r\n",
        "              loss=losses.binary_crossentropy,\r\n",
        "              metrics=[metrics.binary_accuracy])"
      ],
      "execution_count": 14,
      "outputs": []
    },
    {
      "cell_type": "markdown",
      "metadata": {
        "id": "WhJ2CdpQQe9M"
      },
      "source": [
        "## Validating the Apporach"
      ]
    },
    {
      "cell_type": "code",
      "metadata": {
        "id": "tlgzieacQlR1"
      },
      "source": [
        "x_val = x_train[:10000]\r\n",
        "partial_x_train = x_train[10000:]\r\n",
        "\r\n",
        "y_val = y_train[:10000]\r\n",
        "partial_y_train = y_train[10000:]"
      ],
      "execution_count": 15,
      "outputs": []
    },
    {
      "cell_type": "code",
      "metadata": {
        "colab": {
          "base_uri": "https://localhost:8080/",
          "height": 0
        },
        "id": "ijOsCzTPQuHe",
        "outputId": "5a27a3a5-67d3-403d-e6f1-87bb4d90fc6e"
      },
      "source": [
        "history = model.fit(partial_x_train,\r\n",
        "                    partial_y_train,\r\n",
        "                    epochs=20,\r\n",
        "                    batch_size=512,\r\n",
        "                    validation_data=(x_val, y_val))"
      ],
      "execution_count": 16,
      "outputs": [
        {
          "output_type": "stream",
          "text": [
            "Epoch 1/20\n",
            "30/30 [==============================] - 2s 51ms/step - loss: 0.5828 - binary_accuracy: 0.6987 - val_loss: 0.3663 - val_binary_accuracy: 0.8700\n",
            "Epoch 2/20\n",
            "30/30 [==============================] - 1s 32ms/step - loss: 0.3066 - binary_accuracy: 0.9053 - val_loss: 0.2935 - val_binary_accuracy: 0.8906\n",
            "Epoch 3/20\n",
            "30/30 [==============================] - 1s 32ms/step - loss: 0.2180 - binary_accuracy: 0.9296 - val_loss: 0.3000 - val_binary_accuracy: 0.8775\n",
            "Epoch 4/20\n",
            "30/30 [==============================] - 1s 31ms/step - loss: 0.1665 - binary_accuracy: 0.9466 - val_loss: 0.2895 - val_binary_accuracy: 0.8846\n",
            "Epoch 5/20\n",
            "30/30 [==============================] - 1s 38ms/step - loss: 0.1345 - binary_accuracy: 0.9591 - val_loss: 0.2834 - val_binary_accuracy: 0.8866\n",
            "Epoch 6/20\n",
            "30/30 [==============================] - 1s 32ms/step - loss: 0.1077 - binary_accuracy: 0.9683 - val_loss: 0.3128 - val_binary_accuracy: 0.8835\n",
            "Epoch 7/20\n",
            "30/30 [==============================] - 1s 32ms/step - loss: 0.0868 - binary_accuracy: 0.9753 - val_loss: 0.3211 - val_binary_accuracy: 0.8845\n",
            "Epoch 8/20\n",
            "30/30 [==============================] - 1s 32ms/step - loss: 0.0735 - binary_accuracy: 0.9809 - val_loss: 0.3417 - val_binary_accuracy: 0.8785\n",
            "Epoch 9/20\n",
            "30/30 [==============================] - 1s 31ms/step - loss: 0.0568 - binary_accuracy: 0.9873 - val_loss: 0.3883 - val_binary_accuracy: 0.8775\n",
            "Epoch 10/20\n",
            "30/30 [==============================] - 1s 33ms/step - loss: 0.0464 - binary_accuracy: 0.9906 - val_loss: 0.3953 - val_binary_accuracy: 0.8748\n",
            "Epoch 11/20\n",
            "30/30 [==============================] - 1s 31ms/step - loss: 0.0395 - binary_accuracy: 0.9925 - val_loss: 0.4419 - val_binary_accuracy: 0.8733\n",
            "Epoch 12/20\n",
            "30/30 [==============================] - 1s 32ms/step - loss: 0.0297 - binary_accuracy: 0.9945 - val_loss: 0.4513 - val_binary_accuracy: 0.8742\n",
            "Epoch 13/20\n",
            "30/30 [==============================] - 1s 31ms/step - loss: 0.0238 - binary_accuracy: 0.9966 - val_loss: 0.5067 - val_binary_accuracy: 0.8705\n",
            "Epoch 14/20\n",
            "30/30 [==============================] - 1s 31ms/step - loss: 0.0191 - binary_accuracy: 0.9971 - val_loss: 0.5239 - val_binary_accuracy: 0.8689\n",
            "Epoch 15/20\n",
            "30/30 [==============================] - 1s 31ms/step - loss: 0.0147 - binary_accuracy: 0.9983 - val_loss: 0.5556 - val_binary_accuracy: 0.8698\n",
            "Epoch 16/20\n",
            "30/30 [==============================] - 1s 32ms/step - loss: 0.0101 - binary_accuracy: 0.9996 - val_loss: 0.5967 - val_binary_accuracy: 0.8688\n",
            "Epoch 17/20\n",
            "30/30 [==============================] - 1s 31ms/step - loss: 0.0109 - binary_accuracy: 0.9984 - val_loss: 0.6205 - val_binary_accuracy: 0.8676\n",
            "Epoch 18/20\n",
            "30/30 [==============================] - 1s 32ms/step - loss: 0.0059 - binary_accuracy: 0.9998 - val_loss: 0.6618 - val_binary_accuracy: 0.8640\n",
            "Epoch 19/20\n",
            "30/30 [==============================] - 1s 32ms/step - loss: 0.0085 - binary_accuracy: 0.9983 - val_loss: 0.6968 - val_binary_accuracy: 0.8651\n",
            "Epoch 20/20\n",
            "30/30 [==============================] - 1s 30ms/step - loss: 0.0035 - binary_accuracy: 0.9999 - val_loss: 0.7992 - val_binary_accuracy: 0.8508\n"
          ],
          "name": "stdout"
        }
      ]
    },
    {
      "cell_type": "code",
      "metadata": {
        "colab": {
          "base_uri": "https://localhost:8080/",
          "height": 0
        },
        "id": "HvoykhUFQ_rz",
        "outputId": "70bfa0c4-04fb-4cc3-ed9b-732cdff5da1c"
      },
      "source": [
        "history_dict = history.history\r\n",
        "history_dict.keys()"
      ],
      "execution_count": 17,
      "outputs": [
        {
          "output_type": "execute_result",
          "data": {
            "text/plain": [
              "dict_keys(['loss', 'binary_accuracy', 'val_loss', 'val_binary_accuracy'])"
            ]
          },
          "metadata": {
            "tags": []
          },
          "execution_count": 17
        }
      ]
    },
    {
      "cell_type": "code",
      "metadata": {
        "colab": {
          "base_uri": "https://localhost:8080/",
          "height": 295
        },
        "id": "0GOVDenfRFxG",
        "outputId": "db4c6cde-0ca0-454c-d967-5eb9f253b9a8"
      },
      "source": [
        "import matplotlib.pyplot as plt\r\n",
        "\r\n",
        "binary_accuracy = history.history['binary_accuracy']\r\n",
        "val_binary_accuracy = history.history['val_binary_accuracy']\r\n",
        "loss = history.history['loss']\r\n",
        "val_loss = history.history['val_loss']\r\n",
        "\r\n",
        "epochs = range(1, len(binary_accuracy) + 1)\r\n",
        "\r\n",
        "# \"bo\" is for \"blue dot\"\r\n",
        "plt.plot(epochs, loss, 'bo', label='Training loss')\r\n",
        "# b is for \"solid blue line\"\r\n",
        "plt.plot(epochs, val_loss, 'b', label='Validation loss')\r\n",
        "plt.title('Training and validation loss')\r\n",
        "plt.xlabel('Epochs')\r\n",
        "plt.ylabel('Loss')\r\n",
        "plt.legend()\r\n",
        "\r\n",
        "plt.show()\r\n"
      ],
      "execution_count": 18,
      "outputs": [
        {
          "output_type": "display_data",
          "data": {
            "image/png": "[encoded data removed]",
            "text/plain": [
              "<Figure size 432x288 with 1 Axes>"
            ]
          },
          "metadata": {
            "tags": [],
            "needs_background": "light"
          }
        }
      ]
    },
    {
      "cell_type": "code",
      "metadata": {
        "colab": {
          "base_uri": "https://localhost:8080/",
          "height": 295
        },
        "id": "fWYwwPbmRmkW",
        "outputId": "d97157f3-d695-4cfe-eb79-5012fb540295"
      },
      "source": [
        "plt.clf()   # clear figure\r\n",
        "binary_accuracy_values = history_dict['binary_accuracy']\r\n",
        "val_binary_accuracy_values = history_dict['val_binary_accuracy']\r\n",
        "\r\n",
        "plt.plot(epochs, binary_accuracy, 'bo', label='Training acc')\r\n",
        "plt.plot(epochs, val_binary_accuracy, 'b', label='Validation acc')\r\n",
        "plt.title('Training and validation accuracy')\r\n",
        "plt.xlabel('Epochs')\r\n",
        "plt.ylabel('Loss')\r\n",
        "plt.legend()\r\n",
        "\r\n",
        "plt.show()"
      ],
      "execution_count": 19,
      "outputs": [
        {
          "output_type": "display_data",
          "data": {
            "image/png": "[encoded data removed]",
            "text/plain": [
              "<Figure size 432x288 with 1 Axes>"
            ]
          },
          "metadata": {
            "tags": [],
            "needs_background": "light"
          }
        }
      ]
    },
    {
      "cell_type": "code",
      "metadata": {
        "colab": {
          "base_uri": "https://localhost:8080/",
          "height": 0
        },
        "id": "dxvyvjkrRrYi",
        "outputId": "9fe12a2b-ee16-4f49-96d2-8a42cf8a8297"
      },
      "source": [
        "model = models.Sequential()\r\n",
        "model.add(layers.Dense(32, activation='tanh', input_shape=(10000,)))\r\n",
        "model.add(layers.Dropout(0.5))\r\n",
        "model.add(layers.Dense(1, activation='sigmoid'))\r\n",
        "\r\n",
        "model.compile(optimizer='rmsprop',\r\n",
        "              loss='mse',\r\n",
        "              metrics=['accuracy'])\r\n",
        "\r\n",
        "model.fit(x_val, y_val, epochs=4, batch_size=512)\r\n",
        "results = model.evaluate(x_test, y_test)"
      ],
      "execution_count": 20,
      "outputs": [
        {
          "output_type": "stream",
          "text": [
            "Epoch 1/4\n",
            "20/20 [==============================] - 1s 26ms/step - loss: 0.2094 - accuracy: 0.6533\n",
            "Epoch 2/4\n",
            "20/20 [==============================] - 1s 27ms/step - loss: 0.1097 - accuracy: 0.8944\n",
            "Epoch 3/4\n",
            "20/20 [==============================] - 1s 26ms/step - loss: 0.0804 - accuracy: 0.9255\n",
            "Epoch 4/4\n",
            "20/20 [==============================] - 1s 26ms/step - loss: 0.0662 - accuracy: 0.9358\n",
            "782/782 [==============================] - 1s 2ms/step - loss: 0.0930 - accuracy: 0.8822\n"
          ],
          "name": "stdout"
        }
      ]
    },
    {
      "cell_type": "code",
      "metadata": {
        "colab": {
          "base_uri": "https://localhost:8080/",
          "height": 0
        },
        "id": "M_b034tVR4Un",
        "outputId": "c7b3949a-0eff-4ef6-b8dc-1ff0171f6aac"
      },
      "source": [
        "\r\n",
        "results"
      ],
      "execution_count": 21,
      "outputs": [
        {
          "output_type": "execute_result",
          "data": {
            "text/plain": [
              "[0.09303263574838638, 0.8822399973869324]"
            ]
          },
          "metadata": {
            "tags": []
          },
          "execution_count": 21
        }
      ]
    },
    {
      "cell_type": "markdown",
      "metadata": {
        "id": "PQsGQK4jR9CP"
      },
      "source": [
        "## Predictions on New Data"
      ]
    },
    {
      "cell_type": "code",
      "metadata": {
        "colab": {
          "base_uri": "https://localhost:8080/",
          "height": 0
        },
        "id": "3MGmFjZdSF6s",
        "outputId": "b2fba7a5-d093-4fd8-a10f-e828391d34bd"
      },
      "source": [
        "model.predict(x_test)"
      ],
      "execution_count": 22,
      "outputs": [
        {
          "output_type": "execute_result",
          "data": {
            "text/plain": [
              "array([[0.38397413],\n",
              "       [0.99466455],\n",
              "       [0.79271615],\n",
              "       ...,\n",
              "       [0.23864087],\n",
              "       [0.17687595],\n",
              "       [0.36308438]], dtype=float32)"
            ]
          },
          "metadata": {
            "tags": []
          },
          "execution_count": 22
        }
      ]
    }
  ]
}