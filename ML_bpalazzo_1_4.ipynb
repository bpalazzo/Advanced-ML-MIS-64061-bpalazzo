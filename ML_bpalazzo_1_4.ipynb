{
  "nbformat": 4,
  "nbformat_minor": 0,
  "metadata": {
    "colab": {
      "name": "ML bpalazzo_1-4.ipynb",
      "provenance": [],
      "collapsed_sections": []
    },
    "kernelspec": {
      "name": "python3",
      "display_name": "Python 3"
    }
  },
  "cells": [
    {
      "cell_type": "markdown",
      "metadata": {
        "id": "T6zQqT1XLaLZ"
      },
      "source": [
        "# TANH Iteration"
      ]
    },
    {
      "cell_type": "markdown",
      "metadata": {
        "id": "8K88AGH3QC8P"
      },
      "source": [
        "## Importing IMDB Dataset"
      ]
    },
    {
      "cell_type": "code",
      "metadata": {
        "id": "6GO3FkKif-qc"
      },
      "source": [
        "import keras\r\n"
      ],
      "execution_count": null,
      "outputs": []
    },
    {
      "cell_type": "code",
      "metadata": {
        "id": "5j2Gfjzjgplg"
      },
      "source": [
        "from keras.datasets import imdb\r\n",
        "\r\n",
        "(train_data, train_labels), (test_data, test_labels) = imdb.load_data(num_words=10000)"
      ],
      "execution_count": null,
      "outputs": []
    },
    {
      "cell_type": "code",
      "metadata": {
        "id": "4_BuCXYShm49"
      },
      "source": [
        "train_data[0]\r\n"
      ],
      "execution_count": null,
      "outputs": []
    },
    {
      "cell_type": "code",
      "metadata": {
        "id": "ofwS10jqh7eR"
      },
      "source": [
        "train_labels[0]"
      ],
      "execution_count": null,
      "outputs": []
    },
    {
      "cell_type": "code",
      "metadata": {
        "id": "-Ohqy2LDPFpI"
      },
      "source": [
        "max([max(sequence) for sequence in train_data])"
      ],
      "execution_count": null,
      "outputs": []
    },
    {
      "cell_type": "code",
      "metadata": {
        "id": "n5oRRcPlPTE6"
      },
      "source": [
        "# word_index is a dictionary mapping words to an integer index\r\n",
        "word_index = imdb.get_word_index()\r\n",
        "# We reverse it, mapping integer indices to words\r\n",
        "reverse_word_index = dict([(value, key) for (key, value) in word_index.items()])\r\n",
        "# We decode the review; note that our indices were offset by 3\r\n",
        "# because 0, 1 and 2 are reserved indices for \"padding\", \"start of sequence\", and \"unknown\".\r\n",
        "decoded_review = ' '.join([reverse_word_index.get(i - 3, '?') for i in train_data[0]])"
      ],
      "execution_count": null,
      "outputs": []
    },
    {
      "cell_type": "code",
      "metadata": {
        "id": "Ahcmx9IyPV7A"
      },
      "source": [
        "decoded_review\r\n"
      ],
      "execution_count": null,
      "outputs": []
    },
    {
      "cell_type": "markdown",
      "metadata": {
        "id": "7MYf-3PXPcOY"
      },
      "source": [
        "## Preparing the Data"
      ]
    },
    {
      "cell_type": "code",
      "metadata": {
        "id": "Vh48W6wTPi84"
      },
      "source": [
        "import numpy as np\r\n",
        "\r\n",
        "def vectorize_sequences(sequences, dimension=10000):\r\n",
        "    # Create an all-zero matrix of shape (len(sequences), dimension)\r\n",
        "    results = np.zeros((len(sequences), dimension))\r\n",
        "    for i, sequence in enumerate(sequences):\r\n",
        "        results[i, sequence] = 1.  # set specific indices of results[i] to 1s\r\n",
        "    return results\r\n",
        "\r\n",
        "# Our vectorized training data\r\n",
        "x_train = vectorize_sequences(train_data)\r\n",
        "# Our vectorized test data\r\n",
        "x_test = vectorize_sequences(test_data)"
      ],
      "execution_count": null,
      "outputs": []
    },
    {
      "cell_type": "code",
      "metadata": {
        "id": "MOKh4ee8Pok6"
      },
      "source": [
        "x_train[0]"
      ],
      "execution_count": null,
      "outputs": []
    },
    {
      "cell_type": "code",
      "metadata": {
        "id": "XXjmy30qPwCF"
      },
      "source": [
        "# Our vectorized labels\r\n",
        "y_train = np.asarray(train_labels).astype('float32')\r\n",
        "y_test = np.asarray(test_labels).astype('float32')"
      ],
      "execution_count": null,
      "outputs": []
    },
    {
      "cell_type": "markdown",
      "metadata": {
        "id": "VXSzMZkRP21p"
      },
      "source": [
        "## Building the Network"
      ]
    },
    {
      "cell_type": "code",
      "metadata": {
        "id": "JUwrPlN8PzZt"
      },
      "source": [
        "from keras import models\r\n",
        "from keras import layers\r\n",
        "\r\n",
        "model = models.Sequential()\r\n",
        "model.add(layers.Dense(16, activation='relu', input_shape=(10000,)))\r\n",
        "model.add(layers.Dense(16, activation='relu'))\r\n",
        "model.add(layers.Dense(1, activation='sigmoid'))"
      ],
      "execution_count": null,
      "outputs": []
    },
    {
      "cell_type": "code",
      "metadata": {
        "id": "0Fav-Q4QQVQN"
      },
      "source": [
        "model.compile(optimizer='rmsprop',\r\n",
        "              loss='binary_crossentropy',\r\n",
        "              metrics=['accuracy'])"
      ],
      "execution_count": null,
      "outputs": []
    },
    {
      "cell_type": "code",
      "metadata": {
        "id": "CoBmlilMQZMt"
      },
      "source": [
        "from keras import optimizers\r\n",
        "\r\n",
        "model.compile(optimizer=optimizers.RMSprop(lr=0.001),\r\n",
        "              loss='binary_crossentropy',\r\n",
        "              metrics=['accuracy'])"
      ],
      "execution_count": null,
      "outputs": []
    },
    {
      "cell_type": "code",
      "metadata": {
        "id": "u5S2k9XZQcNO"
      },
      "source": [
        "\r\n",
        "from keras import losses\r\n",
        "from keras import metrics\r\n",
        "\r\n",
        "model.compile(optimizer=optimizers.RMSprop(lr=0.001),\r\n",
        "              loss=losses.binary_crossentropy,\r\n",
        "              metrics=[metrics.binary_accuracy])"
      ],
      "execution_count": null,
      "outputs": []
    },
    {
      "cell_type": "markdown",
      "metadata": {
        "id": "WhJ2CdpQQe9M"
      },
      "source": [
        "## Validating the Apporach"
      ]
    },
    {
      "cell_type": "code",
      "metadata": {
        "id": "tlgzieacQlR1"
      },
      "source": [
        "x_val = x_train[:10000]\r\n",
        "partial_x_train = x_train[10000:]\r\n",
        "\r\n",
        "y_val = y_train[:10000]\r\n",
        "partial_y_train = y_train[10000:]"
      ],
      "execution_count": null,
      "outputs": []
    },
    {
      "cell_type": "code",
      "metadata": {
        "colab": {
          "base_uri": "https://localhost:8080/"
        },
        "id": "ijOsCzTPQuHe",
        "outputId": "fc8a0b8c-9359-4dee-bab9-193cd47c1c5b"
      },
      "source": [
        "history = model.fit(partial_x_train,\r\n",
        "                    partial_y_train,\r\n",
        "                    epochs=20,\r\n",
        "                    batch_size=512,\r\n",
        "                    validation_data=(x_val, y_val))"
      ],
      "execution_count": null,
      "outputs": [
        {
          "output_type": "stream",
          "text": [
            "Epoch 1/20\n",
            "30/30 [==============================] - 2s 53ms/step - loss: 0.5866 - binary_accuracy: 0.7069 - val_loss: 0.3782 - val_binary_accuracy: 0.8737\n",
            "Epoch 2/20\n",
            "30/30 [==============================] - 1s 35ms/step - loss: 0.3181 - binary_accuracy: 0.9050 - val_loss: 0.3034 - val_binary_accuracy: 0.8900\n",
            "Epoch 3/20\n",
            "30/30 [==============================] - 1s 35ms/step - loss: 0.2257 - binary_accuracy: 0.9307 - val_loss: 0.2812 - val_binary_accuracy: 0.8897\n",
            "Epoch 4/20\n",
            "30/30 [==============================] - 1s 34ms/step - loss: 0.1777 - binary_accuracy: 0.9474 - val_loss: 0.2729 - val_binary_accuracy: 0.8920\n",
            "Epoch 5/20\n",
            "30/30 [==============================] - 1s 43ms/step - loss: 0.1427 - binary_accuracy: 0.9561 - val_loss: 0.2808 - val_binary_accuracy: 0.8876\n",
            "Epoch 6/20\n",
            "30/30 [==============================] - 1s 36ms/step - loss: 0.1143 - binary_accuracy: 0.9666 - val_loss: 0.2921 - val_binary_accuracy: 0.8857\n",
            "Epoch 7/20\n",
            "30/30 [==============================] - 1s 35ms/step - loss: 0.0922 - binary_accuracy: 0.9749 - val_loss: 0.3081 - val_binary_accuracy: 0.8843\n",
            "Epoch 8/20\n",
            "30/30 [==============================] - 1s 34ms/step - loss: 0.0748 - binary_accuracy: 0.9821 - val_loss: 0.3274 - val_binary_accuracy: 0.8828\n",
            "Epoch 9/20\n",
            "30/30 [==============================] - 1s 35ms/step - loss: 0.0650 - binary_accuracy: 0.9842 - val_loss: 0.3597 - val_binary_accuracy: 0.8801\n",
            "Epoch 10/20\n",
            "30/30 [==============================] - 1s 35ms/step - loss: 0.0506 - binary_accuracy: 0.9894 - val_loss: 0.3764 - val_binary_accuracy: 0.8775\n",
            "Epoch 11/20\n",
            "30/30 [==============================] - 1s 34ms/step - loss: 0.0422 - binary_accuracy: 0.9918 - val_loss: 0.4243 - val_binary_accuracy: 0.8701\n",
            "Epoch 12/20\n",
            "30/30 [==============================] - 1s 35ms/step - loss: 0.0335 - binary_accuracy: 0.9936 - val_loss: 0.4588 - val_binary_accuracy: 0.8718\n",
            "Epoch 13/20\n",
            "30/30 [==============================] - 1s 35ms/step - loss: 0.0261 - binary_accuracy: 0.9955 - val_loss: 0.4663 - val_binary_accuracy: 0.8738\n",
            "Epoch 14/20\n",
            "30/30 [==============================] - 1s 35ms/step - loss: 0.0210 - binary_accuracy: 0.9969 - val_loss: 0.5356 - val_binary_accuracy: 0.8686\n",
            "Epoch 15/20\n",
            "30/30 [==============================] - 1s 35ms/step - loss: 0.0173 - binary_accuracy: 0.9979 - val_loss: 0.5363 - val_binary_accuracy: 0.8712\n",
            "Epoch 16/20\n",
            "30/30 [==============================] - 1s 36ms/step - loss: 0.0114 - binary_accuracy: 0.9990 - val_loss: 0.6388 - val_binary_accuracy: 0.8526\n",
            "Epoch 17/20\n",
            "30/30 [==============================] - 1s 35ms/step - loss: 0.0150 - binary_accuracy: 0.9984 - val_loss: 0.6219 - val_binary_accuracy: 0.8643\n",
            "Epoch 18/20\n",
            "30/30 [==============================] - 1s 35ms/step - loss: 0.0073 - binary_accuracy: 0.9994 - val_loss: 0.6388 - val_binary_accuracy: 0.8685\n",
            "Epoch 19/20\n",
            "30/30 [==============================] - 1s 34ms/step - loss: 0.0060 - binary_accuracy: 0.9995 - val_loss: 0.6684 - val_binary_accuracy: 0.8682\n",
            "Epoch 20/20\n",
            "30/30 [==============================] - 1s 35ms/step - loss: 0.0038 - binary_accuracy: 0.9998 - val_loss: 0.6983 - val_binary_accuracy: 0.8670\n"
          ],
          "name": "stdout"
        }
      ]
    },
    {
      "cell_type": "code",
      "metadata": {
        "colab": {
          "base_uri": "https://localhost:8080/"
        },
        "id": "HvoykhUFQ_rz",
        "outputId": "365869ff-185a-4a63-8750-747afc7d02e4"
      },
      "source": [
        "history_dict = history.history\r\n",
        "history_dict.keys()"
      ],
      "execution_count": null,
      "outputs": [
        {
          "output_type": "execute_result",
          "data": {
            "text/plain": [
              "dict_keys(['loss', 'binary_accuracy', 'val_loss', 'val_binary_accuracy'])"
            ]
          },
          "metadata": {
            "tags": []
          },
          "execution_count": 17
        }
      ]
    },
    {
      "cell_type": "code",
      "metadata": {
        "colab": {
          "base_uri": "https://localhost:8080/",
          "height": 295
        },
        "id": "0GOVDenfRFxG",
        "outputId": "aaa0f4e7-064e-4c61-b60d-113f6a491694"
      },
      "source": [
        "import matplotlib.pyplot as plt\r\n",
        "\r\n",
        "binary_accuracy = history.history['binary_accuracy']\r\n",
        "val_binary_accuracy = history.history['val_binary_accuracy']\r\n",
        "loss = history.history['loss']\r\n",
        "val_loss = history.history['val_loss']\r\n",
        "\r\n",
        "epochs = range(1, len(binary_accuracy) + 1)\r\n",
        "\r\n",
        "# \"bo\" is for \"blue dot\"\r\n",
        "plt.plot(epochs, loss, 'bo', label='Training loss')\r\n",
        "# b is for \"solid blue line\"\r\n",
        "plt.plot(epochs, val_loss, 'b', label='Validation loss')\r\n",
        "plt.title('Training and validation loss')\r\n",
        "plt.xlabel('Epochs')\r\n",
        "plt.ylabel('Loss')\r\n",
        "plt.legend()\r\n",
        "\r\n",
        "plt.show()\r\n"
      ],
      "execution_count": null,
      "outputs": [
        {
          "output_type": "display_data",
          "data": {
            "image/png": "[encoded data removed]",
            "text/plain": [
              "<Figure size 432x288 with 1 Axes>"
            ]
          },
          "metadata": {
            "tags": [],
            "needs_background": "light"
          }
        }
      ]
    },
    {
      "cell_type": "code",
      "metadata": {
        "colab": {
          "base_uri": "https://localhost:8080/",
          "height": 295
        },
        "id": "fWYwwPbmRmkW",
        "outputId": "f918cd82-3b36-4e8b-dadb-69ea598bb29d"
      },
      "source": [
        "plt.clf()   # clear figure\r\n",
        "binary_accuracy_values = history_dict['binary_accuracy']\r\n",
        "val_binary_accuracy_values = history_dict['val_binary_accuracy']\r\n",
        "\r\n",
        "plt.plot(epochs, binary_accuracy, 'bo', label='Training acc')\r\n",
        "plt.plot(epochs, val_binary_accuracy, 'b', label='Validation acc')\r\n",
        "plt.title('Training and validation accuracy')\r\n",
        "plt.xlabel('Epochs')\r\n",
        "plt.ylabel('Loss')\r\n",
        "plt.legend()\r\n",
        "\r\n",
        "plt.show()"
      ],
      "execution_count": null,
      "outputs": [
        {
          "output_type": "display_data",
          "data": {
            "image/png": "[encoded data removed]",
            "text/plain": [
              "<Figure size 432x288 with 1 Axes>"
            ]
          },
          "metadata": {
            "tags": [],
            "needs_background": "light"
          }
        }
      ]
    },
    {
      "cell_type": "code",
      "metadata": {
        "colab": {
          "base_uri": "https://localhost:8080/"
        },
        "id": "dxvyvjkrRrYi",
        "outputId": "5932f091-84a0-4c15-bcd3-8d64c428ead3"
      },
      "source": [
        "model = models.Sequential()\r\n",
        "model.add(layers.Dense(16, activation='tanh', input_shape=(10000,)))\r\n",
        "model.add(layers.Dense(16, activation='tanh'))\r\n",
        "model.add(layers.Dense(1, activation='sigmoid'))\r\n",
        "\r\n",
        "model.compile(optimizer='rmsprop',\r\n",
        "              loss='binary_crossentropy',\r\n",
        "              metrics=['accuracy'])\r\n",
        "\r\n",
        "model.fit(x_val, y_val, epochs=4, batch_size=512)\r\n",
        "results = model.evaluate(x_test, y_test)"
      ],
      "execution_count": null,
      "outputs": [
        {
          "output_type": "stream",
          "text": [
            "Epoch 1/4\n",
            "20/20 [==============================] - 1s 26ms/step - loss: 0.6093 - accuracy: 0.6803\n",
            "Epoch 2/4\n",
            "20/20 [==============================] - 1s 27ms/step - loss: 0.3508 - accuracy: 0.8945\n",
            "Epoch 3/4\n",
            "20/20 [==============================] - 1s 26ms/step - loss: 0.2442 - accuracy: 0.9311\n",
            "Epoch 4/4\n",
            "20/20 [==============================] - 1s 26ms/step - loss: 0.1741 - accuracy: 0.9510\n",
            "782/782 [==============================] - 2s 2ms/step - loss: 0.3120 - accuracy: 0.8719\n"
          ],
          "name": "stdout"
        }
      ]
    },
    {
      "cell_type": "code",
      "metadata": {
        "colab": {
          "base_uri": "https://localhost:8080/"
        },
        "id": "M_b034tVR4Un",
        "outputId": "2ab8cd77-a3ac-41fb-f7a6-0bd92876cad3"
      },
      "source": [
        "\r\n",
        "results"
      ],
      "execution_count": null,
      "outputs": [
        {
          "output_type": "execute_result",
          "data": {
            "text/plain": [
              "[0.3120480477809906, 0.8718799948692322]"
            ]
          },
          "metadata": {
            "tags": []
          },
          "execution_count": 21
        }
      ]
    },
    {
      "cell_type": "markdown",
      "metadata": {
        "id": "PQsGQK4jR9CP"
      },
      "source": [
        "## Predictions on New Data"
      ]
    },
    {
      "cell_type": "code",
      "metadata": {
        "colab": {
          "base_uri": "https://localhost:8080/"
        },
        "id": "3MGmFjZdSF6s",
        "outputId": "c96e07bd-41f3-4111-80a7-23cab957cec2"
      },
      "source": [
        "model.predict(x_test)"
      ],
      "execution_count": null,
      "outputs": [
        {
          "output_type": "execute_result",
          "data": {
            "text/plain": [
              "array([[0.3922693 ],\n",
              "       [0.9910734 ],\n",
              "       [0.94585603],\n",
              "       ...,\n",
              "       [0.24122423],\n",
              "       [0.13914695],\n",
              "       [0.56083447]], dtype=float32)"
            ]
          },
          "metadata": {
            "tags": []
          },
          "execution_count": 22
        }
      ]
    }
  ]
}